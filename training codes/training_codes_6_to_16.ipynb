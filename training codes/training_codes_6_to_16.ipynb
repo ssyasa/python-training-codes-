{
  "nbformat": 4,
  "nbformat_minor": 0,
  "metadata": {
    "colab": {
      "provenance": []
    },
    "kernelspec": {
      "name": "python3",
      "display_name": "Python 3"
    },
    "language_info": {
      "name": "python"
    }
  },
  "cells": [
    {
      "cell_type": "markdown",
      "source": [
        "#6.perfect_number"
      ],
      "metadata": {
        "id": "jg6NPYcoxlsD"
      }
    },
    {
      "cell_type": "code",
      "execution_count": 4,
      "metadata": {
        "colab": {
          "base_uri": "https://localhost:8080/"
        },
        "id": "9qEbdN8_xOn7",
        "outputId": "bc7c8f2f-581c-4ea2-fc03-77737944211e"
      },
      "outputs": [
        {
          "output_type": "stream",
          "name": "stdout",
          "text": [
            "Enter a number: 6\n",
            "6 is a perfect number.\n"
          ]
        }
      ],
      "source": [
        "def is_perfect_number(n):\n",
        "    sum_of_divisors = 0\n",
        "    for i in range(1, n):\n",
        "        if n % i == 0:\n",
        "            sum_of_divisors += i\n",
        "    return sum_of_divisors == n\n",
        "\n",
        "num = int(input(\"Enter a number: \"))\n",
        "if is_perfect_number(num):\n",
        "    print(f\"{num} is a perfect number.\")\n",
        "else:\n",
        "    print(f\"{num} is not a perfect number.\")"
      ]
    },
    {
      "cell_type": "markdown",
      "source": [
        "#7.Print Armstrong Numbers from 1 to 1000:"
      ],
      "metadata": {
        "id": "iRBjeuSaxqdz"
      }
    },
    {
      "cell_type": "code",
      "source": [
        " def is_armstrong_number(n):\n",
        "    num_str = str(n)\n",
        "    num_digits = len(num_str)\n",
        "    sum_of_powers = sum(int(digit) ** num_digits for digit in num_str)\n",
        "    return sum_of_powers == n\n",
        "\n",
        "for num in range(1, 1001):\n",
        "    if is_armstrong_number(num):\n",
        "        print(num)\n"
      ],
      "metadata": {
        "colab": {
          "base_uri": "https://localhost:8080/"
        },
        "id": "GuPuSzg9xPmf",
        "outputId": "989330a9-8189-4516-c106-9a1c286d2d1d"
      },
      "execution_count": 5,
      "outputs": [
        {
          "output_type": "stream",
          "name": "stdout",
          "text": [
            "1\n",
            "2\n",
            "3\n",
            "4\n",
            "5\n",
            "6\n",
            "7\n",
            "8\n",
            "9\n",
            "153\n",
            "370\n",
            "371\n",
            "407\n"
          ]
        }
      ]
    },
    {
      "cell_type": "markdown",
      "source": [
        "#8.Generate Fibonacci Series using Command-Line Argument"
      ],
      "metadata": {
        "id": "EjuBIyZ-x5ql"
      }
    },
    {
      "cell_type": "code",
      "source": [
        "import sys\n",
        "\n",
        "def generate_fibonacci(n):\n",
        "    fib_series = [0, 1]\n",
        "    for i in range(2, n):\n",
        "        next_num = fib_series[i-1] + fib_series[i-2]\n",
        "        fib_series.append(next_num)\n",
        "    return fib_series\n",
        "\n",
        "if len(sys.argv) != 2:\n",
        "    print(\"Usage: python fibonacci.py <number>\")\n",
        "else:\n",
        "    n = int(sys.argv[1])\n",
        "    if n <= 0:\n",
        "        print(\"Please enter a positive number.\")\n",
        "    else:\n",
        "        fibonacci_series = generate_fibonacci(n)\n",
        "        print(f\"Fibonacci Series of {n} numbers: {fibonacci_series}\")\n"
      ],
      "metadata": {
        "colab": {
          "base_uri": "https://localhost:8080/"
        },
        "id": "XQyrvilKxtwa",
        "outputId": "01044e36-9085-46ef-f9a5-5f439907bd01"
      },
      "execution_count": 6,
      "outputs": [
        {
          "output_type": "stream",
          "name": "stdout",
          "text": [
            "Usage: python fibonacci.py <number>\n"
          ]
        }
      ]
    },
    {
      "cell_type": "markdown",
      "source": [
        "#9.Compute First N Fibonacci Numbers using Command Line Arguments"
      ],
      "metadata": {
        "id": "Hmx070V1yQrJ"
      }
    },
    {
      "cell_type": "code",
      "source": [
        "import sys\n",
        "\n",
        "def generate_fibonacci(n):\n",
        "    fib_series = [0, 1]\n",
        "    for i in range(2, n):\n",
        "        next_num = fib_series[i-1] + fib_series[i-2]\n",
        "        fib_series.append(next_num)\n",
        "    return fib_series\n",
        "\n",
        "if len(sys.argv) != 2:\n",
        "    print(\"Usage: python fibonacci.py <number>\")\n",
        "else:\n",
        "    n = int(sys.argv[1])\n",
        "    if n <= 0:\n",
        "        print(\"Please enter a positive number.\")\n",
        "    else:\n",
        "        fibonacci_series = generate_fibonacci(n)\n",
        "        print(f\"First {n} Fibonacci Numbers: {fibonacci_series}\")\n"
      ],
      "metadata": {
        "colab": {
          "base_uri": "https://localhost:8080/"
        },
        "id": "dUPqf8NfyGoF",
        "outputId": "4c6415c0-80b3-4023-b9bb-9d0d31bb9994"
      },
      "execution_count": 7,
      "outputs": [
        {
          "output_type": "stream",
          "name": "stdout",
          "text": [
            "Usage: python fibonacci.py <number>\n"
          ]
        }
      ]
    },
    {
      "cell_type": "markdown",
      "source": [
        "#11. Calculate Sum and Average of an Array"
      ],
      "metadata": {
        "id": "wzzozChgyouF"
      }
    },
    {
      "cell_type": "code",
      "source": [
        "def calculate_sum_average(arr):\n",
        "    total_sum = sum(arr)\n",
        "    average = total_sum / len(arr)\n",
        "    return total_sum, average\n",
        "\n",
        "# Example usage\n",
        "arr = [10, 20, 30, 40, 50]\n",
        "total, avg = calculate_sum_average(arr)\n",
        "print(f\"Sum of the array: {total}\")\n",
        "print(f\"Average of the array: {avg}\")\n"
      ],
      "metadata": {
        "colab": {
          "base_uri": "https://localhost:8080/"
        },
        "id": "qMrDjN7Iya_Y",
        "outputId": "2c407f9a-8552-48fd-a829-638566ec12e2"
      },
      "execution_count": 8,
      "outputs": [
        {
          "output_type": "stream",
          "name": "stdout",
          "text": [
            "Sum of the array: 150\n",
            "Average of the array: 30.0\n"
          ]
        }
      ]
    },
    {
      "cell_type": "markdown",
      "source": [
        "#12.Find the Second Largest and Smallest Elements in an Array:"
      ],
      "metadata": {
        "id": "FRrCNT0-yuHR"
      }
    },
    {
      "cell_type": "code",
      "source": [
        "def find_second_largest_smallest(arr):\n",
        "    arr.sort()\n",
        "    second_smallest = arr[1]\n",
        "    second_largest = arr[-2]\n",
        "    return second_smallest, second_largest\n",
        "\n",
        "# Example usage\n",
        "arr = [5, 10, 2, 15, 7]\n",
        "second_smallest, second_largest = find_second_largest_smallest(arr)\n",
        "print(f\"Second Smallest: {second_smallest}\")\n",
        "print(f\"Second Largest: {second_largest}\")\n"
      ],
      "metadata": {
        "colab": {
          "base_uri": "https://localhost:8080/"
        },
        "id": "vDENa16Nys1B",
        "outputId": "ee501434-b71e-4a2c-a2b6-9ab9e5b613ea"
      },
      "execution_count": 9,
      "outputs": [
        {
          "output_type": "stream",
          "name": "stdout",
          "text": [
            "Second Smallest: 5\n",
            "Second Largest: 10\n"
          ]
        }
      ]
    },
    {
      "cell_type": "markdown",
      "source": [
        "#13.Calculate the Sum of Odd and Even Numbers in an Array:"
      ],
      "metadata": {
        "id": "nPLHGM9qy2Ub"
      }
    },
    {
      "cell_type": "code",
      "source": [
        "def sum_odd_even(arr):\n",
        "    sum_odd = sum(x for x in arr if x % 2 == 1)\n",
        "    sum_even = sum(x for x in arr if x % 2 == 0)\n",
        "    return sum_odd, sum_even\n",
        "\n",
        "# Example usage\n",
        "arr = [1, 2, 3, 4, 5]\n",
        "sum_odd, sum_even = sum_odd_even(arr)\n",
        "print(f\"Sum of Odd Numbers: {sum_odd}\")\n",
        "print(f\"Sum of Even Numbers: {sum_even}\")\n"
      ],
      "metadata": {
        "colab": {
          "base_uri": "https://localhost:8080/"
        },
        "id": "YFpVoCJ2y1Qq",
        "outputId": "a2dc8d58-9ea1-40a0-c528-44068864ac39"
      },
      "execution_count": 11,
      "outputs": [
        {
          "output_type": "stream",
          "name": "stdout",
          "text": [
            "Sum of Odd Numbers: 9\n",
            "Sum of Even Numbers: 6\n"
          ]
        }
      ]
    },
    {
      "cell_type": "markdown",
      "source": [
        "#14.Find Two Elements in an Array with the Largest Difference:"
      ],
      "metadata": {
        "id": "TXJGiHQ9zT1N"
      }
    },
    {
      "cell_type": "code",
      "source": [
        "def find_largest_difference(arr):\n",
        "    max_diff = max(arr) - min(arr)\n",
        "    return max_diff\n",
        "\n",
        "# Example usage\n",
        "arr = [3, 10, 2, 8, 5]\n",
        "max_difference = find_largest_difference(arr)\n",
        "print(f\"Largest Difference: {max_difference}\")\n"
      ],
      "metadata": {
        "colab": {
          "base_uri": "https://localhost:8080/"
        },
        "id": "6HJJfRdCzORG",
        "outputId": "8145d880-c1df-420f-bc11-84004358dee5"
      },
      "execution_count": 13,
      "outputs": [
        {
          "output_type": "stream",
          "name": "stdout",
          "text": [
            "Largest Difference: 8\n"
          ]
        }
      ]
    },
    {
      "cell_type": "markdown",
      "source": [
        "#15.Display the Upper Triangular Matrix:\n"
      ],
      "metadata": {
        "id": "eiHZc-GT0GAg"
      }
    },
    {
      "cell_type": "code",
      "source": [
        "def interchange_rows_columns(matrix):\n",
        "    transposed_matrix = [[matrix[j][i] for j in range(len(matrix))] for i in range(len(matrix[0]))]\n",
        "    return transposed_matrix\n",
        "\n",
        "# Example usage\n",
        "matrix = [[1, 2, 3], [4, 5, 6], [7, 8, 9]]\n",
        "transposed = interchange_rows_columns(matrix)\n",
        "for row in transposed:\n",
        "    print(row)\n"
      ],
      "metadata": {
        "colab": {
          "base_uri": "https://localhost:8080/"
        },
        "id": "TY46L3Rgz521",
        "outputId": "0d90eded-e3aa-43d1-eaa2-aeb63afd16ff"
      },
      "execution_count": 18,
      "outputs": [
        {
          "output_type": "stream",
          "name": "stdout",
          "text": [
            "[1, 4, 7]\n",
            "[2, 5, 8]\n",
            "[3, 6, 9]\n"
          ]
        }
      ]
    },
    {
      "cell_type": "markdown",
      "source": [
        "#16.Find the Frequency of Odd and Even Numbers in a Matrix:"
      ],
      "metadata": {
        "id": "RRKzifXf0PCW"
      }
    },
    {
      "cell_type": "code",
      "source": [
        "def count_odd_even(matrix):\n",
        "    odd_count = 0\n",
        "    even_count = 0\n",
        "    for row in matrix:\n",
        "        for num in row:\n",
        "            if num % 2 == 0:\n",
        "                even_count += 1\n",
        "            else:\n",
        "                odd_count += 1\n",
        "    return odd_count, even_count\n",
        "\n",
        "# Example usage\n",
        "matrix = [[1, 2, 3], [4, 5, 6], [7, 8, 9]]\n",
        "odd, even = count_odd_even(matrix)\n",
        "print(f\"Number of Odd: {odd}\")\n",
        "print(f\"Number of Even: {even}\")\n"
      ],
      "metadata": {
        "colab": {
          "base_uri": "https://localhost:8080/"
        },
        "id": "dSMy_T3Z0Asa",
        "outputId": "515d6de9-cb5b-4241-e376-9f843c5f08bb"
      },
      "execution_count": 17,
      "outputs": [
        {
          "output_type": "stream",
          "name": "stdout",
          "text": [
            "Number of Odd: 5\n",
            "Number of Even: 4\n"
          ]
        }
      ]
    },
    {
      "cell_type": "code",
      "source": [],
      "metadata": {
        "id": "Aoiff2YV0L8A"
      },
      "execution_count": null,
      "outputs": []
    },
    {
      "cell_type": "code",
      "source": [],
      "metadata": {
        "id": "hFYS4ISE0X--"
      },
      "execution_count": null,
      "outputs": []
    }
  ]
}